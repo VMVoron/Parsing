{
 "cells": [
  {
   "cell_type": "code",
   "execution_count": null,
   "id": "99b71f65-4003-404a-b129-1efa7eee16f4",
   "metadata": {},
   "outputs": [],
   "source": [
    "'''Импортируем необходимые библиотеки. '''"
   ]
  },
  {
   "cell_type": "code",
   "execution_count": 92,
   "id": "92857630-eafd-4664-a803-fd49de2a48fe",
   "metadata": {},
   "outputs": [],
   "source": [
    "import vk\n",
    "import sqlite3\n",
    "from time import time, sleep, strptime, strftime, mktime, gmtime"
   ]
  },
  {
   "cell_type": "code",
   "execution_count": null,
   "id": "2a62f5d3-e2fe-46ab-9ae7-9ac7241b70be",
   "metadata": {},
   "outputs": [],
   "source": [
    "'''Если модуль отсутствует: \n",
    "Jupiter: установим его через !pip install\n",
    "Pycharm: check interpreter and path, see file -> settings -> python interpreter -> packages'''"
   ]
  },
  {
   "cell_type": "code",
   "execution_count": null,
   "id": "720fb7ac-da13-4599-8e7e-20186afcc8a2",
   "metadata": {},
   "outputs": [],
   "source": [
    "'''If there are some problems with time library:\n",
    "Since time is a standart library, we don't have to import it to pyCharm, just use it\n",
    "Or try to import it with a name: i.e. import time as tm\n",
    "Check all the references to the imported functions from module time thoroughly'''"
   ]
  },
  {
   "cell_type": "code",
   "execution_count": 93,
   "id": "f1b433a9-96b1-411e-8629-97c4e739b343",
   "metadata": {},
   "outputs": [],
   "source": [
    "groups = ['grazhdanesb', 'mayaksbor', 'stv24']"
   ]
  },
  {
   "cell_type": "code",
   "execution_count": 94,
   "id": "55d7a447-69bf-4633-a488-f3742f8921c0",
   "metadata": {},
   "outputs": [],
   "source": [
    "chunks = [groups]"
   ]
  },
  {
   "cell_type": "code",
   "execution_count": 95,
   "id": "d96460a1-9af1-4ece-935a-fb406a195011",
   "metadata": {},
   "outputs": [
    {
     "data": {
      "text/plain": [
       "[['grazhdanesb', 'mayaksbor', 'stv24']]"
      ]
     },
     "execution_count": 95,
     "metadata": {},
     "output_type": "execute_result"
    }
   ],
   "source": [
    "chunks"
   ]
  },
  {
   "cell_type": "code",
   "execution_count": null,
   "id": "bc10600d-bdd2-4d8d-8269-974d9566d2b6",
   "metadata": {},
   "outputs": [],
   "source": [
    "''' The following line below creates NEW database, be careful'''"
   ]
  },
  {
   "cell_type": "code",
   "execution_count": 108,
   "id": "b31ade64-8f39-4ae7-9382-de5b3ff04ed9",
   "metadata": {},
   "outputs": [],
   "source": [
    "my_file = open(\"base.db\", \"w+\")"
   ]
  },
  {
   "cell_type": "code",
   "execution_count": 97,
   "id": "44426e19-7b33-4d2d-807f-78cce98eeee4",
   "metadata": {},
   "outputs": [],
   "source": [
    "conn = sqlite3.connect(r'base.db')\n",
    "c = conn.cursor()"
   ]
  },
  {
   "cell_type": "code",
   "execution_count": null,
   "id": "fdb24d40-25cc-4def-ac07-27005c5084be",
   "metadata": {},
   "outputs": [],
   "source": [
    "'''Get vk admin token instead of vk.com otherwise method wallget is deprecated with code error 3'''"
   ]
  },
  {
   "cell_type": "code",
   "execution_count": 98,
   "id": "7c6bd850-b6d2-4719-8ac2-b39c3eb67937",
   "metadata": {},
   "outputs": [],
   "source": [
    "token = \"XXXXXXXXXXXXXXXXXXXXXWnZRWpRRA\"\n",
    "api = vk.API(access_token = token)"
   ]
  },
  {
   "cell_type": "code",
   "execution_count": 99,
   "id": "60ce02d1-08a1-4fb0-8a0e-0934d30a0df6",
   "metadata": {},
   "outputs": [
    {
     "data": {
      "text/plain": [
       "<sqlite3.Cursor at 0x2190a049880>"
      ]
     },
     "execution_count": 99,
     "metadata": {},
     "output_type": "execute_result"
    }
   ],
   "source": [
    "c.execute('''CREATE TABLE IF NOT EXISTS groups (ID INT, name text,screen_name text, is_closed int, type text,\n",
    "           deactivated text,description text,country text,city text,contacts, members INT)''')"
   ]
  },
  {
   "cell_type": "code",
   "execution_count": null,
   "id": "502f7f11-bd2f-48ab-b07f-7d0692ad1f4e",
   "metadata": {},
   "outputs": [],
   "source": [
    "''' VK API with standart methods takes no more than 3 requests per seconds'''"
   ]
  },
  {
   "cell_type": "code",
   "execution_count": 100,
   "id": "ffa560d4-aa78-4988-95df-de24e786028d",
   "metadata": {},
   "outputs": [
    {
     "name": "stdout",
     "output_type": "stream",
     "text": [
      "{'id': 72889389, 'city': {'id': 1048255, 'title': 'Сосновый Бор'}, 'country': {'id': 1, 'title': 'Россия'}, 'description': '«Граждане города» и горожане – плечом к плечу!\\n\\nСосновый бор официальный сайт Ассоциации \"Граждане города Сосновый Бор\".\\n\\nОбщественное движение «Граждане города» изменяет свой статус, продолжая развитие. Наша группа не может отставать от общей тенденции, и сегодня мы заявляем о полноценном изменении ее формата!\\nОценив состояние информационного пространства нашего города, мы уверены, что горожанам необходим настоящий информационно-развлекательный центр, ядром которого и станет наша группа. \\nИменно здесь мы постараемся собрать всю актуальную и необходимую для горожан информацию, обсудим важнейшие городские проблемы, проведем интересные конкурсы, которые помогут горожанам лучше узнать любимый город. \\nНа страницах нашей группы Вы сможете задать интересующие и насущные вопросы депутатам городского собрания представляющих наше движение и получить на них ответы. \\nМы открыты для Ваших предложений, и готовы внимательно изучить их. Музыка, фотографии, обсуждения истории и реалий нашего города, клубы по интересам – все, что интересно горожанам, интересно и нам! Давайте сделаем нашу группу настоящей, и сделаем это вместе! Добро пожаловать!', 'members_count': 19493, 'contacts': [{'user_id': 218030, 'desc': 'Редактор группы, координатор информационного направления Ассоциации \"Граждане города Сосновый Бор\"'}, {'user_id': 84871888, 'desc': 'Председатель Ассоциации \"Граждане города Сосновый Бор\", администратор группы'}, {'user_id': 1924883, 'desc': 'Депутат городского Совета, координатор Ассоциации \"Граждане города Сосновый Бор\"'}, {'user_id': 2143869, 'desc': 'Координатор Ассоциации \"Граждане города Сосновый Бор\"'}, {'user_id': 72069028, 'desc': 'Координатор проекта \"Малый Совет депутатов\"'}], 'name': 'Граждане города Сосновый Бор', 'screen_name': 'grazhdanesb', 'is_closed': 0, 'type': 'group', 'is_admin': 0, 'is_member': 0, 'is_advertiser': 0, 'photo_50': 'https://sun9-50.userapi.com/s/v1/if1/D05MucGjJizHFBbUBOHPyVEhyVpZxSeN7RW6CAcF08fIvQn8Lzmig-CI0xePw9XTORFhyg.jpg?size=50x50&quality=96&crop=0,181,1032,1032&ava=1', 'photo_100': 'https://sun9-50.userapi.com/s/v1/if1/vG9oGCVIuIeXRSOS5TDxh7e8615_mhEYA7m3RWcLaSErgw66DSNJCfl5F1J1Y9SQbev2PQ.jpg?size=100x100&quality=96&crop=0,181,1032,1032&ava=1', 'photo_200': 'https://sun9-50.userapi.com/s/v1/if1/8yj9AYYolAolnbTYsCy9cSk8ZMpf9FQ8Aiu5dPjAKGl8MhSEPlRpK1x4iMJiI2DoW-twjQ.jpg?size=200x200&quality=96&crop=0,181,1032,1032&ava=1'}\n",
      "{'id': 405719, 'city': {'id': 1048255, 'title': 'Сосновый Бор'}, 'country': {'id': 1, 'title': 'Россия'}, 'description': 'Сосновый Бор и окрестности. Актуальная информация и история.\\nСтена открытая, формат общения — непринужденный, доброжелательный. Вне политики. Пишите, задавайте вопросы, предлагайте темы. Приглашайте знакомых! (Рекламные объявления на стене — только по согласованию)', 'members_count': 17215, 'contacts': [{'user_id': 87190285, 'desc': 'Все о рекламе в газете', 'phone': '79215862626', 'email': 'reclama.mayaksbor@yandex.ru'}], 'name': 'Маяк. Сосновый Бор', 'screen_name': 'mayaksbor', 'is_closed': 0, 'type': 'page', 'is_admin': 0, 'is_member': 0, 'is_advertiser': 0, 'photo_50': 'https://sun9-47.userapi.com/s/v1/if1/jn-pA22jfs_Tr7O_vYvDCispiX2thPtnHojmXvdQqPtzvQoa0Vi0oRDK9ryyYiHvDQ_RZg.jpg?size=50x50&quality=96&crop=0,0,935,935&ava=1', 'photo_100': 'https://sun9-47.userapi.com/s/v1/if1/ktbnSlNTx_1OvUek5ssKbVn3UNfXgqsnJ71XFtw9uBERu_qeE4mkVQcU5TzJ-IRk_n9q9A.jpg?size=100x100&quality=96&crop=0,0,935,935&ava=1', 'photo_200': 'https://sun9-47.userapi.com/s/v1/if1/_hjxp7IgdyyxH9u2o-K1Lcd44HZrO9IMpoj7dkoGtle8yy2qsWD1gano8zetClu8vZt2cw.jpg?size=200x200&quality=96&crop=0,0,935,935&ava=1'}\n",
      "{'id': 16374902, 'city': {'id': 1236, 'title': 'Сосновый Бор (поселок)'}, 'country': {'id': 1, 'title': 'Россия'}, 'description': 'Каждый будний день смотрите на телеканале СТВ свежий выпуск новостей в 19:30. Повторы - через каждый час 23 раза. \\nУникальные хештеги #ств_24 #новости_СТВ', 'members_count': 24324, 'contacts': [{'desc': 'по всем вопросам писать в сообщения сообщества ', 'phone': 'тел.8 (81369)20011'}], 'name': 'Телекомпания СТВ. Сосновый Бор', 'screen_name': 'stv24', 'is_closed': 0, 'type': 'page', 'is_admin': 0, 'is_member': 0, 'is_advertiser': 0, 'photo_50': 'https://sun9-88.userapi.com/s/v1/if1/EN5KuNo1aRI6g-hUpdcKobd7R4DegY8SUCd2lWI9utUkfwnofkJam338reIUZYzvmUIT_WV1.jpg?size=50x50&quality=96&crop=13,15,277,277&ava=1', 'photo_100': 'https://sun9-88.userapi.com/s/v1/if1/4_O3ZmND_p_U1CofXXY-vyHTQ_BKi46DCfkrE2kD1giDTOUZwanzX80pDRO7BfQbBwiigWgZ.jpg?size=100x100&quality=96&crop=13,15,277,277&ava=1', 'photo_200': 'https://sun9-88.userapi.com/s/v1/if1/JwFkS4uoRJITd9pOoWWh9H5uQbbWkPzaA_tRI4ehha9ebR0D657zUwmG9vJklKpqd1Zg_Q9M.jpg?size=200x200&quality=96&crop=13,15,277,277&ava=1'}\n",
      "--- 0 seconds ---\n"
     ]
    }
   ],
   "source": [
    "start_time = time()\n",
    "for chunk in chunks:\n",
    "\n",
    "    json_group = api.groups.getById(group_ids = ','.join(chunk), v=5.131,\n",
    "                                    fields ='deactivated,description,members_count,country,city,contacts')\n",
    "    sleep(0.32)\n",
    "\n",
    "    for item in json_group:\n",
    "        print(item)\n",
    "        ID = item['id']\n",
    "        name = item['name']\n",
    "        screen_name = item['screen_name']\n",
    "        is_closed = item['is_closed']\n",
    "        tip = item['type']\n",
    "        deactivated = item['deactivated'] if 'deactivated' in item.keys() else None\n",
    "        desc = item['description'] if 'description' in item.keys() else None\n",
    "        country = item['country']['title'] if 'country' in item.keys() else None\n",
    "        city = item['city']['title'] if 'city' in item.keys() else None\n",
    "        members = item['members_count'] if 'members_count' in item.keys() else None\n",
    "        contacts = ''\n",
    "        if 'contacts' in item.keys():\n",
    "            for contact in item['contacts']:\n",
    "                contacts += str(contact)\n",
    "        else:\n",
    "            contacts = None\n",
    "\n",
    "        row = (ID, name, screen_name,is_closed,tip,deactivated,desc,country,city,contacts,members)\n",
    "        conn.execute(\"INSERT INTO groups VALUES (?,?,?,?,?,?,?,?,?,?,?)\", row)\n",
    "\n",
    "    conn.commit()\n",
    "\n",
    "conn.close()\n",
    "s = int(time() - start_time)\n",
    "print(\"--- %s seconds ---\" % s)"
   ]
  },
  {
   "cell_type": "code",
   "execution_count": 101,
   "id": "ed36fb4f-1f0d-4b8c-ae74-b1b79b99e436",
   "metadata": {},
   "outputs": [
    {
     "name": "stdout",
     "output_type": "stream",
     "text": [
      "[-72889389, -405719, -16374902]\n"
     ]
    }
   ],
   "source": [
    "conn = sqlite3.connect(r'base.db')\n",
    "c = conn.cursor()\n",
    "\n",
    "c.execute('''CREATE TABLE IF NOT EXISTS posts\n",
    "      (UID INTEGER,date date, owner_id INTEGER, post_id INTEGER, from_id INTEGER,text text,\n",
    "         comments INTEGER, likes INTEGER, reposts INTEGER,views INTEGER, post_type text,attachments text,\n",
    "         history text)''')\n",
    "\n",
    "c.execute('''SELECT * FROM groups''') # нам не надо никаких условий\n",
    "\n",
    "group_data = [-int(list(item)[0]) for item in c.fetchall()]\n",
    "print(group_data)"
   ]
  },
  {
   "cell_type": "code",
   "execution_count": 102,
   "id": "96124e2b-e40e-4b20-be29-eebebb726f4c",
   "metadata": {},
   "outputs": [],
   "source": [
    "time_threshold = '2022-02-24 00:00:00'\n",
    "time_threshold_epoch = int(mktime(strptime(time_threshold, '%Y-%m-%d %H:%M:%S'))) #convert to UNIX timestamp"
   ]
  },
  {
   "cell_type": "code",
   "execution_count": 107,
   "id": "32dae9d3-fd14-47a1-b398-cf2e1bbfe096",
   "metadata": {},
   "outputs": [
    {
     "name": "stdout",
     "output_type": "stream",
     "text": [
      "Количество групп: 3\n",
      "Группа1: -72889389\n",
      "-------------------------------------\n",
      "Число постов:106888\n",
      "0.0 % completed\n",
      "2.34 % completed\n",
      "4.68 % completed\n",
      "7.02 % completed\n",
      "threshold is reached\n",
      "Группа2: -405719\n",
      "-------------------------------------\n",
      "Число постов:61817\n",
      "0.0 % completed\n",
      "4.04 % completed\n",
      "threshold is reached\n",
      "Группа3: -16374902\n",
      "-------------------------------------\n",
      "Число постов:29479\n",
      "0.0 % completed\n",
      "8.47 % completed\n",
      "threshold is reached\n",
      "--- 3.95 minutes ---\n"
     ]
    }
   ],
   "source": [
    "#FOR POST EXTRACTING\n",
    "start_time = time()\n",
    "UID = 0\n",
    "print('Количество групп:', len(group_data))\n",
    "for i in range(len(group_data)):\n",
    "\n",
    "    print(\"Группа\"+str(i+1)+\": \"+str(group_data[i]))\n",
    "    print('-------------------------------------')\n",
    "    try:\n",
    "        json_form_num = api.wall.get(owner_id = group_data[i],offset=0,count=100,v=5.131);\n",
    "        sleep(0.33)\n",
    "    except vk.exceptions.VkAPIError as e:\n",
    "        if e.code == 15 or e.code == 18 or e.code == 30:\n",
    "            print(\"Ошибка 15 или Ошибка 18 или Ошибка 30\")\n",
    "            continue\n",
    "        else:\n",
    "            raise\n",
    "\n",
    "    print(\"Число постов:\"+str(json_form_num['count']))\n",
    "\n",
    "    offset = 0\n",
    "    \n",
    "    f = round(json_form_num['count']/100+0.499)\n",
    "\n",
    "    for j in range(0, f):\n",
    "        try:\n",
    "            json_form = api.wall.get(owner_id = group_data[i],offset=offset,count=100,v=5.131);\n",
    "            sleep(0.33)\n",
    "        except vk.exceptions.VkAPIError as e:\n",
    "            if e.code == 15:\n",
    "                break\n",
    "            else:\n",
    "                raise\n",
    "        if j % 10 == 0:        \n",
    "            print(round(j/f*100, 2), '% completed')\n",
    "        #print(json_form)\n",
    "\n",
    "\n",
    "        for post in json_form['items']:\n",
    "            UID += 1\n",
    "\n",
    "            if post['text'] is not None:\n",
    "                text = post['text'].replace(\"\\n\", \" \")\n",
    "            else:\n",
    "                text = None\n",
    "\n",
    "            if \"views\" in post.keys():\n",
    "                views = post['views']['count']\n",
    "            else:\n",
    "                views = None\n",
    "\n",
    "            if \"likes\" in post.keys():\n",
    "                likes = post['likes']['count']\n",
    "            else:\n",
    "                likes = None\n",
    "\n",
    "            if \"reposts\" in post.keys():\n",
    "                reposts = post['reposts']['count']\n",
    "            else:\n",
    "                reposts = None\n",
    "\n",
    "            if \"attachments\" in post.keys():\n",
    "                attachments = str(post['attachments'])\n",
    "            else:\n",
    "                attachments = None\n",
    "\n",
    "            if \"copy_history\" in post.keys():\n",
    "                history = str(post['copy_history'])\n",
    "            else:\n",
    "                history = None\n",
    "\n",
    "            row = (UID,\n",
    "                   strftime(\"%Y-%m-%d %H:%M:%S\", gmtime(post['date'])),\n",
    "                   group_data[i],\n",
    "                   post['id'],\n",
    "                   post['from_id'],\n",
    "                   text,\n",
    "                   post['comments']['count'],\n",
    "                   likes,\n",
    "                   reposts,\n",
    "                   views,\n",
    "                   post['post_type'],\n",
    "                   attachments,\n",
    "                   history\n",
    "                   )\n",
    "\n",
    "            conn.execute(\"INSERT INTO posts VALUES (?,?,?,?,?,?,?,?,?,?,?,?,?)\", row)\n",
    "        offset += 100\n",
    "        conn.commit()\n",
    "        if json_form['items'][-1]['date'] < time_threshold_epoch: # тоже убрать коммент\n",
    "            print('threshold is reached')\n",
    "            break\n",
    "conn.close()\n",
    "mnt = int(time() - start_time)/60\n",
    "print(\"--- %s minutes ---\" % mnt)"
   ]
  },
  {
   "cell_type": "code",
   "execution_count": null,
   "id": "f17404bb-b4e4-42f0-8fcb-bf69c0c5d6f1",
   "metadata": {},
   "outputs": [],
   "source": []
  }
 ],
 "metadata": {
  "kernelspec": {
   "display_name": "Python 3 (ipykernel)",
   "language": "python",
   "name": "python3"
  },
  "language_info": {
   "codemirror_mode": {
    "name": "ipython",
    "version": 3
   },
   "file_extension": ".py",
   "mimetype": "text/x-python",
   "name": "python",
   "nbconvert_exporter": "python",
   "pygments_lexer": "ipython3",
   "version": "3.9.13"
  }
 },
 "nbformat": 4,
 "nbformat_minor": 5
}
